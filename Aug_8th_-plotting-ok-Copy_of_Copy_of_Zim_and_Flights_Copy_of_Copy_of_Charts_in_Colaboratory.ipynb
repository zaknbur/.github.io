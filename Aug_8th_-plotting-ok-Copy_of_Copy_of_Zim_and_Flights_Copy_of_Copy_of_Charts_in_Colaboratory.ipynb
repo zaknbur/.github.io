{
  "nbformat": 4,
  "nbformat_minor": 0,
  "metadata": {
    "colab": {
      "name": "Aug-8th-Copy of Copy of Zim and Flights Copy of Copy of Charts in Colaboratory",
      "version": "0.3.2",
      "provenance": [],
      "collapsed_sections": [],
      "include_colab_link": true
    },
    "kernelspec": {
      "display_name": "Python 3",
      "name": "python3"
    }
  },
  "cells": [
    {
      "cell_type": "markdown",
      "metadata": {
        "id": "view-in-github",
        "colab_type": "text"
      },
      "source": [
        "<a href=\"https://colab.research.google.com/github/zaknbur/.github.io/blob/master/Aug_8th_-plotting-ok-Copy_of_Copy_of_Zim_and_Flights_Copy_of_Copy_of_Charts_in_Colaboratory.ipynb\" target=\"_parent\"><img src=\"https://colab.research.google.com/assets/colab-badge.svg\" alt=\"Open In Colab\"/></a>"
      ]
    },
    {
      "cell_type": "markdown",
      "metadata": {
        "colab_type": "text",
        "id": "QSMmdrrVLZ-N"
      },
      "source": [
        "# Charting in Colaboratory\n",
        "\n",
        "A common use for notebooks is data visualization using charts. Colaboratory makes this easy with several charting tools available as Python imports."
      ]
    },
    {
      "cell_type": "code",
      "metadata": {
        "id": "VmZgvBQk9uNU",
        "colab_type": "code",
        "colab": {}
      },
      "source": [
        "import numpy as np\n",
        "import seaborn as sns\n",
        "import pandas as pd \n",
        "import matplotlib.pyplot as plt"
      ],
      "execution_count": 0,
      "outputs": []
    },
    {
      "cell_type": "code",
      "metadata": {
        "id": "R68qzgG78GpA",
        "colab_type": "code",
        "outputId": "bdde68cb-22d2-480f-8ff6-07a23f451099",
        "colab": {
          "base_uri": "https://localhost:8080/",
          "height": 34
        }
      },
      "source": [
        "%ls"
      ],
      "execution_count": 2,
      "outputs": [
        {
          "output_type": "stream",
          "text": [
            "\u001b[0m\u001b[01;34msample_data\u001b[0m/\n"
          ],
          "name": "stdout"
        }
      ]
    },
    {
      "cell_type": "code",
      "metadata": {
        "id": "5R0gc3xin5o_",
        "colab_type": "code",
        "colab": {}
      },
      "source": [
        "zim_gold = pd.read_csv ('https://raw.githubusercontent.com/zaknbur/data/master/zim-grab-gold-no-z.csv')"
      ],
      "execution_count": 0,
      "outputs": []
    },
    {
      "cell_type": "code",
      "metadata": {
        "id": "nsP8vtHk9axE",
        "colab_type": "code",
        "outputId": "f8e585b3-dd09-47bf-cc52-d3d2fb23a55d",
        "colab": {
          "base_uri": "https://localhost:8080/",
          "height": 1000
        }
      },
      "source": [
        "print (zim_gold)"
      ],
      "execution_count": 13,
      "outputs": [
        {
          "output_type": "stream",
          "text": [
            "     Northings  Eastings  Au-gpt\n",
            "0         7725     12065  0.0110\n",
            "1         7775     12065  0.0100\n",
            "2         7825     12065  0.0180\n",
            "3         7875     12065  0.0140\n",
            "4         7925     12065  0.0100\n",
            "5         7975     12065  0.0100\n",
            "6         8025     12065  0.0130\n",
            "7         8075     12065  0.0100\n",
            "8         8125     12065  0.0110\n",
            "9         8175     12065  0.0100\n",
            "10        8225     12065  0.0100\n",
            "11        8275     12065  0.0100\n",
            "12        8325     12065  0.0100\n",
            "13        8375     12065  0.0125\n",
            "14        8425     12065  0.0110\n",
            "15        8475     12065  0.0110\n",
            "16        8525     12065  0.0110\n",
            "17        8575     12065  0.0130\n",
            "18        7725     12115  0.0115\n",
            "19        7775     12115  0.0151\n",
            "20        7825     12115  0.0130\n",
            "21        7875     12115  3.2000\n",
            "22        7925     12115  0.0135\n",
            "23        7975     12115  0.0110\n",
            "24        8025     12115  3.5000\n",
            "25        8075     12115  1.5000\n",
            "26        8125     12115  0.0110\n",
            "27        8175     12115  7.6000\n",
            "28        8225     12115  0.0125\n",
            "29        8275     12115  0.0120\n",
            "..         ...       ...     ...\n",
            "96        8025     12315  0.0110\n",
            "97        8075     12315  0.0130\n",
            "98        8125     12315  0.0110\n",
            "99        8175     12315  0.0110\n",
            "100       8225     12315  0.0120\n",
            "101       8275     12315  0.0120\n",
            "102       8325     12315  0.0130\n",
            "103       8375     12315  0.0100\n",
            "104       8425     12315  0.0125\n",
            "105       8475     12315  0.0110\n",
            "106       8525     12315  3.9000\n",
            "107       8575     12315  0.0130\n",
            "108       7725     12365  1.9000\n",
            "109       7775     12365  0.0140\n",
            "110       7825     12365  2.5000\n",
            "111       7875     12365  4.6000\n",
            "112       7925     12365  0.0100\n",
            "113       7975     12365  0.0110\n",
            "114       8025     12365  0.0110\n",
            "115       8075     12365  0.0110\n",
            "116       8125     12365  2.4400\n",
            "117       8175     12365  0.0110\n",
            "118       8225     12365  3.6000\n",
            "119       8275     12365  0.0130\n",
            "120       8325     12365  1.9000\n",
            "121       8375     12365  0.0140\n",
            "122       8425     12365  0.0110\n",
            "123       8475     12365  0.0110\n",
            "124       8525     12365  0.0140\n",
            "125       8575     12365  1.3500\n",
            "\n",
            "[126 rows x 3 columns]\n"
          ],
          "name": "stdout"
        }
      ]
    },
    {
      "cell_type": "code",
      "metadata": {
        "id": "iFyTnWXxe0f0",
        "colab_type": "code",
        "outputId": "c624662f-4048-46ea-8116-6e1e100dd687",
        "colab": {
          "base_uri": "https://localhost:8080/",
          "height": 204
        }
      },
      "source": [
        "zim_gold.head(5)"
      ],
      "execution_count": 14,
      "outputs": [
        {
          "output_type": "execute_result",
          "data": {
            "text/html": [
              "<div>\n",
              "<style scoped>\n",
              "    .dataframe tbody tr th:only-of-type {\n",
              "        vertical-align: middle;\n",
              "    }\n",
              "\n",
              "    .dataframe tbody tr th {\n",
              "        vertical-align: top;\n",
              "    }\n",
              "\n",
              "    .dataframe thead th {\n",
              "        text-align: right;\n",
              "    }\n",
              "</style>\n",
              "<table border=\"1\" class=\"dataframe\">\n",
              "  <thead>\n",
              "    <tr style=\"text-align: right;\">\n",
              "      <th></th>\n",
              "      <th>Northings</th>\n",
              "      <th>Eastings</th>\n",
              "      <th>Au-gpt</th>\n",
              "    </tr>\n",
              "  </thead>\n",
              "  <tbody>\n",
              "    <tr>\n",
              "      <th>0</th>\n",
              "      <td>7725</td>\n",
              "      <td>12065</td>\n",
              "      <td>0.011</td>\n",
              "    </tr>\n",
              "    <tr>\n",
              "      <th>1</th>\n",
              "      <td>7775</td>\n",
              "      <td>12065</td>\n",
              "      <td>0.010</td>\n",
              "    </tr>\n",
              "    <tr>\n",
              "      <th>2</th>\n",
              "      <td>7825</td>\n",
              "      <td>12065</td>\n",
              "      <td>0.018</td>\n",
              "    </tr>\n",
              "    <tr>\n",
              "      <th>3</th>\n",
              "      <td>7875</td>\n",
              "      <td>12065</td>\n",
              "      <td>0.014</td>\n",
              "    </tr>\n",
              "    <tr>\n",
              "      <th>4</th>\n",
              "      <td>7925</td>\n",
              "      <td>12065</td>\n",
              "      <td>0.010</td>\n",
              "    </tr>\n",
              "  </tbody>\n",
              "</table>\n",
              "</div>"
            ],
            "text/plain": [
              "   Northings  Eastings  Au-gpt\n",
              "0       7725     12065   0.011\n",
              "1       7775     12065   0.010\n",
              "2       7825     12065   0.018\n",
              "3       7875     12065   0.014\n",
              "4       7925     12065   0.010"
            ]
          },
          "metadata": {
            "tags": []
          },
          "execution_count": 14
        }
      ]
    },
    {
      "cell_type": "markdown",
      "metadata": {
        "id": "d-3lqm3NUuUx",
        "colab_type": "text"
      },
      "source": [
        "Norwegian magnetic survey\n"
      ]
    },
    {
      "cell_type": "code",
      "metadata": {
        "colab_type": "code",
        "id": "WgOjKcMbVBsH",
        "colab": {}
      },
      "source": [
        "norway_mag = pd.read_csv ('https://raw.githubusercontent.com/zaknbur/data/master/norway-mag-survey.csv')"
      ],
      "execution_count": 0,
      "outputs": []
    },
    {
      "cell_type": "code",
      "metadata": {
        "colab_type": "code",
        "outputId": "bbe8f55c-dd28-40b6-894f-84ec0954b0ee",
        "id": "p2Kh9dgIVlsB",
        "colab": {
          "base_uri": "https://localhost:8080/",
          "height": 204
        }
      },
      "source": [
        "norway_mag.head(5)"
      ],
      "execution_count": 7,
      "outputs": [
        {
          "output_type": "execute_result",
          "data": {
            "text/html": [
              "<div>\n",
              "<style scoped>\n",
              "    .dataframe tbody tr th:only-of-type {\n",
              "        vertical-align: middle;\n",
              "    }\n",
              "\n",
              "    .dataframe tbody tr th {\n",
              "        vertical-align: top;\n",
              "    }\n",
              "\n",
              "    .dataframe thead th {\n",
              "        text-align: right;\n",
              "    }\n",
              "</style>\n",
              "<table border=\"1\" class=\"dataframe\">\n",
              "  <thead>\n",
              "    <tr style=\"text-align: right;\">\n",
              "      <th></th>\n",
              "      <th>Latitude</th>\n",
              "      <th>Longitude</th>\n",
              "      <th>Mag_Field</th>\n",
              "    </tr>\n",
              "  </thead>\n",
              "  <tbody>\n",
              "    <tr>\n",
              "      <th>0</th>\n",
              "      <td>64.665813</td>\n",
              "      <td>13.149861</td>\n",
              "      <td>51990.5</td>\n",
              "    </tr>\n",
              "    <tr>\n",
              "      <th>1</th>\n",
              "      <td>64.666035</td>\n",
              "      <td>13.149779</td>\n",
              "      <td>51999.6</td>\n",
              "    </tr>\n",
              "    <tr>\n",
              "      <th>2</th>\n",
              "      <td>64.666260</td>\n",
              "      <td>13.149758</td>\n",
              "      <td>51990.9</td>\n",
              "    </tr>\n",
              "    <tr>\n",
              "      <th>3</th>\n",
              "      <td>64.666465</td>\n",
              "      <td>13.149815</td>\n",
              "      <td>51988.1</td>\n",
              "    </tr>\n",
              "    <tr>\n",
              "      <th>4</th>\n",
              "      <td>64.666723</td>\n",
              "      <td>13.149768</td>\n",
              "      <td>52004.7</td>\n",
              "    </tr>\n",
              "  </tbody>\n",
              "</table>\n",
              "</div>"
            ],
            "text/plain": [
              "    Latitude  Longitude  Mag_Field\n",
              "0  64.665813  13.149861    51990.5\n",
              "1  64.666035  13.149779    51999.6\n",
              "2  64.666260  13.149758    51990.9\n",
              "3  64.666465  13.149815    51988.1\n",
              "4  64.666723  13.149768    52004.7"
            ]
          },
          "metadata": {
            "tags": []
          },
          "execution_count": 7
        }
      ]
    },
    {
      "cell_type": "code",
      "metadata": {
        "id": "hdgesTfJ_ya8",
        "colab_type": "code",
        "colab": {}
      },
      "source": [
        "Export = norway_mag.to_json ('/content/norway_mag.json')"
      ],
      "execution_count": 0,
      "outputs": []
    },
    {
      "cell_type": "code",
      "metadata": {
        "id": "cfEL21iOCIO8",
        "colab_type": "code",
        "outputId": "7f389ae4-094c-437b-807a-5e0674ff2785",
        "colab": {
          "base_uri": "https://localhost:8080/",
          "height": 163
        }
      },
      "source": [
        "df.head(5)"
      ],
      "execution_count": 16,
      "outputs": [
        {
          "output_type": "error",
          "ename": "NameError",
          "evalue": "ignored",
          "traceback": [
            "\u001b[0;31m---------------------------------------------------------------------------\u001b[0m",
            "\u001b[0;31mNameError\u001b[0m                                 Traceback (most recent call last)",
            "\u001b[0;32m<ipython-input-16-a29405eb924b>\u001b[0m in \u001b[0;36m<module>\u001b[0;34m()\u001b[0m\n\u001b[0;32m----> 1\u001b[0;31m \u001b[0mdf\u001b[0m\u001b[0;34m.\u001b[0m\u001b[0mhead\u001b[0m\u001b[0;34m(\u001b[0m\u001b[0;36m5\u001b[0m\u001b[0;34m)\u001b[0m\u001b[0;34m\u001b[0m\u001b[0;34m\u001b[0m\u001b[0m\n\u001b[0m",
            "\u001b[0;31mNameError\u001b[0m: name 'df' is not defined"
          ]
        }
      ]
    },
    {
      "cell_type": "markdown",
      "metadata": {
        "id": "i-8RkzGRokos",
        "colab_type": "text"
      },
      "source": [
        "and now flights"
      ]
    },
    {
      "cell_type": "code",
      "metadata": {
        "id": "veEnXUvoooFo",
        "colab_type": "code",
        "colab": {}
      },
      "source": [
        "flights = pd.read_csv ('https://raw.githubusercontent.com/zaknbur/data/master/flights.csv')"
      ],
      "execution_count": 0,
      "outputs": []
    },
    {
      "cell_type": "code",
      "metadata": {
        "id": "o4N2yFSto9Q4",
        "colab_type": "code",
        "outputId": "988f479c-03f8-4ffe-d772-5205705f9d50",
        "colab": {
          "base_uri": "https://localhost:8080/",
          "height": 204
        }
      },
      "source": [
        "flights.head(5)"
      ],
      "execution_count": 18,
      "outputs": [
        {
          "output_type": "execute_result",
          "data": {
            "text/html": [
              "<div>\n",
              "<style scoped>\n",
              "    .dataframe tbody tr th:only-of-type {\n",
              "        vertical-align: middle;\n",
              "    }\n",
              "\n",
              "    .dataframe tbody tr th {\n",
              "        vertical-align: top;\n",
              "    }\n",
              "\n",
              "    .dataframe thead th {\n",
              "        text-align: right;\n",
              "    }\n",
              "</style>\n",
              "<table border=\"1\" class=\"dataframe\">\n",
              "  <thead>\n",
              "    <tr style=\"text-align: right;\">\n",
              "      <th></th>\n",
              "      <th>year</th>\n",
              "      <th>month</th>\n",
              "      <th>passengers</th>\n",
              "    </tr>\n",
              "  </thead>\n",
              "  <tbody>\n",
              "    <tr>\n",
              "      <th>0</th>\n",
              "      <td>1949</td>\n",
              "      <td>January</td>\n",
              "      <td>112</td>\n",
              "    </tr>\n",
              "    <tr>\n",
              "      <th>1</th>\n",
              "      <td>1949</td>\n",
              "      <td>February</td>\n",
              "      <td>118</td>\n",
              "    </tr>\n",
              "    <tr>\n",
              "      <th>2</th>\n",
              "      <td>1949</td>\n",
              "      <td>March</td>\n",
              "      <td>132</td>\n",
              "    </tr>\n",
              "    <tr>\n",
              "      <th>3</th>\n",
              "      <td>1949</td>\n",
              "      <td>April</td>\n",
              "      <td>129</td>\n",
              "    </tr>\n",
              "    <tr>\n",
              "      <th>4</th>\n",
              "      <td>1949</td>\n",
              "      <td>May</td>\n",
              "      <td>121</td>\n",
              "    </tr>\n",
              "  </tbody>\n",
              "</table>\n",
              "</div>"
            ],
            "text/plain": [
              "   year     month  passengers\n",
              "0  1949   January         112\n",
              "1  1949  February         118\n",
              "2  1949     March         132\n",
              "3  1949     April         129\n",
              "4  1949       May         121"
            ]
          },
          "metadata": {
            "tags": []
          },
          "execution_count": 18
        }
      ]
    },
    {
      "cell_type": "code",
      "metadata": {
        "id": "Yvh3HgWlhg1j",
        "colab_type": "code",
        "colab": {}
      },
      "source": [
        "Norway_Mag = pd.read_csv ('https://raw.githubusercontent.com/zaknbur/data/master/norway-mag-survey.csv')"
      ],
      "execution_count": 0,
      "outputs": []
    },
    {
      "cell_type": "code",
      "metadata": {
        "id": "Ljo6qc3hiA2P",
        "colab_type": "code",
        "outputId": "9e9c5251-8b4b-45f5-d675-9b69bef192e1",
        "colab": {
          "base_uri": "https://localhost:8080/",
          "height": 204
        }
      },
      "source": [
        "Norway_Mag.head(5)"
      ],
      "execution_count": 20,
      "outputs": [
        {
          "output_type": "execute_result",
          "data": {
            "text/html": [
              "<div>\n",
              "<style scoped>\n",
              "    .dataframe tbody tr th:only-of-type {\n",
              "        vertical-align: middle;\n",
              "    }\n",
              "\n",
              "    .dataframe tbody tr th {\n",
              "        vertical-align: top;\n",
              "    }\n",
              "\n",
              "    .dataframe thead th {\n",
              "        text-align: right;\n",
              "    }\n",
              "</style>\n",
              "<table border=\"1\" class=\"dataframe\">\n",
              "  <thead>\n",
              "    <tr style=\"text-align: right;\">\n",
              "      <th></th>\n",
              "      <th>Latitude</th>\n",
              "      <th>Longitude</th>\n",
              "      <th>Mag_Field</th>\n",
              "    </tr>\n",
              "  </thead>\n",
              "  <tbody>\n",
              "    <tr>\n",
              "      <th>0</th>\n",
              "      <td>64.665813</td>\n",
              "      <td>13.149861</td>\n",
              "      <td>51990.5</td>\n",
              "    </tr>\n",
              "    <tr>\n",
              "      <th>1</th>\n",
              "      <td>64.666035</td>\n",
              "      <td>13.149779</td>\n",
              "      <td>51999.6</td>\n",
              "    </tr>\n",
              "    <tr>\n",
              "      <th>2</th>\n",
              "      <td>64.666260</td>\n",
              "      <td>13.149758</td>\n",
              "      <td>51990.9</td>\n",
              "    </tr>\n",
              "    <tr>\n",
              "      <th>3</th>\n",
              "      <td>64.666465</td>\n",
              "      <td>13.149815</td>\n",
              "      <td>51988.1</td>\n",
              "    </tr>\n",
              "    <tr>\n",
              "      <th>4</th>\n",
              "      <td>64.666723</td>\n",
              "      <td>13.149768</td>\n",
              "      <td>52004.7</td>\n",
              "    </tr>\n",
              "  </tbody>\n",
              "</table>\n",
              "</div>"
            ],
            "text/plain": [
              "    Latitude  Longitude  Mag_Field\n",
              "0  64.665813  13.149861    51990.5\n",
              "1  64.666035  13.149779    51999.6\n",
              "2  64.666260  13.149758    51990.9\n",
              "3  64.666465  13.149815    51988.1\n",
              "4  64.666723  13.149768    52004.7"
            ]
          },
          "metadata": {
            "tags": []
          },
          "execution_count": 20
        }
      ]
    },
    {
      "cell_type": "markdown",
      "metadata": {
        "id": "5OaO9-QmT5zi",
        "colab_type": "text"
      },
      "source": [
        "Now try pivoting\n",
        "\n",
        "flight_matrix = flights_raw.pivot(\"month\", \"year\", \"passengers\")\n",
        "flight_matrix\n",
        "\n",
        "Norway_matrix = Norway_Mag.pivot(\"Latitude\", \"Longitude\", \"Mag_Field\")\n",
        "Norway_matrix\n"
      ]
    },
    {
      "cell_type": "markdown",
      "metadata": {
        "id": "3WLfjlEAYeEW",
        "colab_type": "text"
      },
      "source": [
        ""
      ]
    },
    {
      "cell_type": "code",
      "metadata": {
        "id": "sLKOSTjSZV1g",
        "colab_type": "code",
        "colab": {}
      },
      "source": [
        "Norway_Mag = Norway_Mag.pivot('Latitude','Longitude','Mag_Field')"
      ],
      "execution_count": 0,
      "outputs": []
    },
    {
      "cell_type": "code",
      "metadata": {
        "colab_type": "code",
        "outputId": "34319c8e-fc68-478a-b05d-1b953f4068cd",
        "id": "A-RDInu9hOK3",
        "colab": {
          "base_uri": "https://localhost:8080/",
          "height": 284
        }
      },
      "source": [
        "Norway_Mag.head(5)"
      ],
      "execution_count": 22,
      "outputs": [
        {
          "output_type": "execute_result",
          "data": {
            "text/html": [
              "<div>\n",
              "<style scoped>\n",
              "    .dataframe tbody tr th:only-of-type {\n",
              "        vertical-align: middle;\n",
              "    }\n",
              "\n",
              "    .dataframe tbody tr th {\n",
              "        vertical-align: top;\n",
              "    }\n",
              "\n",
              "    .dataframe thead th {\n",
              "        text-align: right;\n",
              "    }\n",
              "</style>\n",
              "<table border=\"1\" class=\"dataframe\">\n",
              "  <thead>\n",
              "    <tr style=\"text-align: right;\">\n",
              "      <th>Longitude</th>\n",
              "      <th>nan</th>\n",
              "      <th>13.149227999999999</th>\n",
              "      <th>13.149238</th>\n",
              "      <th>13.149285</th>\n",
              "      <th>13.149296</th>\n",
              "      <th>13.149328</th>\n",
              "      <th>13.149346</th>\n",
              "      <th>13.149366</th>\n",
              "      <th>13.149370000000001</th>\n",
              "      <th>13.149373</th>\n",
              "      <th>13.149408</th>\n",
              "      <th>13.149410999999999</th>\n",
              "      <th>13.149420999999998</th>\n",
              "      <th>13.149463</th>\n",
              "      <th>13.149470999999998</th>\n",
              "      <th>13.149516</th>\n",
              "      <th>13.149531</th>\n",
              "      <th>13.149536</th>\n",
              "      <th>13.149543</th>\n",
              "      <th>13.149567999999999</th>\n",
              "      <th>13.149579000000001</th>\n",
              "      <th>13.149602999999999</th>\n",
              "      <th>13.149604</th>\n",
              "      <th>13.149610999999998</th>\n",
              "      <th>13.149660999999998</th>\n",
              "      <th>13.149663</th>\n",
              "      <th>13.149723000000002</th>\n",
              "      <th>13.149723999999999</th>\n",
              "      <th>13.149726000000001</th>\n",
              "      <th>13.149734</th>\n",
              "      <th>13.14974</th>\n",
              "      <th>13.149748</th>\n",
              "      <th>13.149757999999999</th>\n",
              "      <th>13.149764999999999</th>\n",
              "      <th>13.149768</th>\n",
              "      <th>13.149773999999999</th>\n",
              "      <th>13.149779</th>\n",
              "      <th>13.149780999999999</th>\n",
              "      <th>13.149810999999998</th>\n",
              "      <th>13.149815</th>\n",
              "      <th>...</th>\n",
              "      <th>13.15557</th>\n",
              "      <th>13.155579999999999</th>\n",
              "      <th>13.155582999999998</th>\n",
              "      <th>13.155598000000001</th>\n",
              "      <th>13.1556</th>\n",
              "      <th>13.155606</th>\n",
              "      <th>13.15562</th>\n",
              "      <th>13.155648000000001</th>\n",
              "      <th>13.155648999999999</th>\n",
              "      <th>13.155657999999999</th>\n",
              "      <th>13.155688</th>\n",
              "      <th>13.155707999999999</th>\n",
              "      <th>13.155717999999998</th>\n",
              "      <th>13.155723000000002</th>\n",
              "      <th>13.155756</th>\n",
              "      <th>13.155779999999998</th>\n",
              "      <th>13.15579</th>\n",
              "      <th>13.1558</th>\n",
              "      <th>13.155833</th>\n",
              "      <th>13.155857999999998</th>\n",
              "      <th>13.155860999999998</th>\n",
              "      <th>13.155871</th>\n",
              "      <th>13.155910999999998</th>\n",
              "      <th>13.155915</th>\n",
              "      <th>13.155928</th>\n",
              "      <th>13.155938</th>\n",
              "      <th>13.155951000000002</th>\n",
              "      <th>13.155965</th>\n",
              "      <th>13.155973000000001</th>\n",
              "      <th>13.155976</th>\n",
              "      <th>13.155985000000001</th>\n",
              "      <th>13.155999999999999</th>\n",
              "      <th>13.156018</th>\n",
              "      <th>13.156042999999999</th>\n",
              "      <th>13.15606</th>\n",
              "      <th>13.15608</th>\n",
              "      <th>13.156101000000001</th>\n",
              "      <th>13.15611</th>\n",
              "      <th>13.156143</th>\n",
              "      <th>13.15615</th>\n",
              "    </tr>\n",
              "    <tr>\n",
              "      <th>Latitude</th>\n",
              "      <th></th>\n",
              "      <th></th>\n",
              "      <th></th>\n",
              "      <th></th>\n",
              "      <th></th>\n",
              "      <th></th>\n",
              "      <th></th>\n",
              "      <th></th>\n",
              "      <th></th>\n",
              "      <th></th>\n",
              "      <th></th>\n",
              "      <th></th>\n",
              "      <th></th>\n",
              "      <th></th>\n",
              "      <th></th>\n",
              "      <th></th>\n",
              "      <th></th>\n",
              "      <th></th>\n",
              "      <th></th>\n",
              "      <th></th>\n",
              "      <th></th>\n",
              "      <th></th>\n",
              "      <th></th>\n",
              "      <th></th>\n",
              "      <th></th>\n",
              "      <th></th>\n",
              "      <th></th>\n",
              "      <th></th>\n",
              "      <th></th>\n",
              "      <th></th>\n",
              "      <th></th>\n",
              "      <th></th>\n",
              "      <th></th>\n",
              "      <th></th>\n",
              "      <th></th>\n",
              "      <th></th>\n",
              "      <th></th>\n",
              "      <th></th>\n",
              "      <th></th>\n",
              "      <th></th>\n",
              "      <th></th>\n",
              "      <th></th>\n",
              "      <th></th>\n",
              "      <th></th>\n",
              "      <th></th>\n",
              "      <th></th>\n",
              "      <th></th>\n",
              "      <th></th>\n",
              "      <th></th>\n",
              "      <th></th>\n",
              "      <th></th>\n",
              "      <th></th>\n",
              "      <th></th>\n",
              "      <th></th>\n",
              "      <th></th>\n",
              "      <th></th>\n",
              "      <th></th>\n",
              "      <th></th>\n",
              "      <th></th>\n",
              "      <th></th>\n",
              "      <th></th>\n",
              "      <th></th>\n",
              "      <th></th>\n",
              "      <th></th>\n",
              "      <th></th>\n",
              "      <th></th>\n",
              "      <th></th>\n",
              "      <th></th>\n",
              "      <th></th>\n",
              "      <th></th>\n",
              "      <th></th>\n",
              "      <th></th>\n",
              "      <th></th>\n",
              "      <th></th>\n",
              "      <th></th>\n",
              "      <th></th>\n",
              "      <th></th>\n",
              "      <th></th>\n",
              "      <th></th>\n",
              "      <th></th>\n",
              "      <th></th>\n",
              "    </tr>\n",
              "  </thead>\n",
              "  <tbody>\n",
              "    <tr>\n",
              "      <th>NaN</th>\n",
              "      <td>NaN</td>\n",
              "      <td>NaN</td>\n",
              "      <td>NaN</td>\n",
              "      <td>NaN</td>\n",
              "      <td>NaN</td>\n",
              "      <td>NaN</td>\n",
              "      <td>NaN</td>\n",
              "      <td>NaN</td>\n",
              "      <td>NaN</td>\n",
              "      <td>NaN</td>\n",
              "      <td>NaN</td>\n",
              "      <td>NaN</td>\n",
              "      <td>NaN</td>\n",
              "      <td>NaN</td>\n",
              "      <td>NaN</td>\n",
              "      <td>NaN</td>\n",
              "      <td>NaN</td>\n",
              "      <td>NaN</td>\n",
              "      <td>NaN</td>\n",
              "      <td>NaN</td>\n",
              "      <td>NaN</td>\n",
              "      <td>NaN</td>\n",
              "      <td>NaN</td>\n",
              "      <td>NaN</td>\n",
              "      <td>NaN</td>\n",
              "      <td>NaN</td>\n",
              "      <td>NaN</td>\n",
              "      <td>NaN</td>\n",
              "      <td>NaN</td>\n",
              "      <td>NaN</td>\n",
              "      <td>NaN</td>\n",
              "      <td>NaN</td>\n",
              "      <td>NaN</td>\n",
              "      <td>NaN</td>\n",
              "      <td>NaN</td>\n",
              "      <td>NaN</td>\n",
              "      <td>NaN</td>\n",
              "      <td>NaN</td>\n",
              "      <td>NaN</td>\n",
              "      <td>NaN</td>\n",
              "      <td>...</td>\n",
              "      <td>NaN</td>\n",
              "      <td>NaN</td>\n",
              "      <td>NaN</td>\n",
              "      <td>NaN</td>\n",
              "      <td>NaN</td>\n",
              "      <td>NaN</td>\n",
              "      <td>NaN</td>\n",
              "      <td>NaN</td>\n",
              "      <td>NaN</td>\n",
              "      <td>NaN</td>\n",
              "      <td>NaN</td>\n",
              "      <td>NaN</td>\n",
              "      <td>NaN</td>\n",
              "      <td>NaN</td>\n",
              "      <td>NaN</td>\n",
              "      <td>NaN</td>\n",
              "      <td>NaN</td>\n",
              "      <td>NaN</td>\n",
              "      <td>NaN</td>\n",
              "      <td>NaN</td>\n",
              "      <td>NaN</td>\n",
              "      <td>NaN</td>\n",
              "      <td>NaN</td>\n",
              "      <td>NaN</td>\n",
              "      <td>NaN</td>\n",
              "      <td>NaN</td>\n",
              "      <td>NaN</td>\n",
              "      <td>NaN</td>\n",
              "      <td>NaN</td>\n",
              "      <td>NaN</td>\n",
              "      <td>NaN</td>\n",
              "      <td>NaN</td>\n",
              "      <td>NaN</td>\n",
              "      <td>NaN</td>\n",
              "      <td>NaN</td>\n",
              "      <td>NaN</td>\n",
              "      <td>NaN</td>\n",
              "      <td>NaN</td>\n",
              "      <td>NaN</td>\n",
              "      <td>NaN</td>\n",
              "    </tr>\n",
              "    <tr>\n",
              "      <th>64.665803</th>\n",
              "      <td>NaN</td>\n",
              "      <td>NaN</td>\n",
              "      <td>NaN</td>\n",
              "      <td>NaN</td>\n",
              "      <td>NaN</td>\n",
              "      <td>NaN</td>\n",
              "      <td>NaN</td>\n",
              "      <td>NaN</td>\n",
              "      <td>NaN</td>\n",
              "      <td>NaN</td>\n",
              "      <td>NaN</td>\n",
              "      <td>NaN</td>\n",
              "      <td>NaN</td>\n",
              "      <td>NaN</td>\n",
              "      <td>NaN</td>\n",
              "      <td>NaN</td>\n",
              "      <td>NaN</td>\n",
              "      <td>NaN</td>\n",
              "      <td>NaN</td>\n",
              "      <td>NaN</td>\n",
              "      <td>NaN</td>\n",
              "      <td>NaN</td>\n",
              "      <td>NaN</td>\n",
              "      <td>NaN</td>\n",
              "      <td>NaN</td>\n",
              "      <td>NaN</td>\n",
              "      <td>NaN</td>\n",
              "      <td>NaN</td>\n",
              "      <td>NaN</td>\n",
              "      <td>NaN</td>\n",
              "      <td>NaN</td>\n",
              "      <td>NaN</td>\n",
              "      <td>NaN</td>\n",
              "      <td>NaN</td>\n",
              "      <td>NaN</td>\n",
              "      <td>NaN</td>\n",
              "      <td>NaN</td>\n",
              "      <td>NaN</td>\n",
              "      <td>NaN</td>\n",
              "      <td>NaN</td>\n",
              "      <td>...</td>\n",
              "      <td>NaN</td>\n",
              "      <td>NaN</td>\n",
              "      <td>NaN</td>\n",
              "      <td>NaN</td>\n",
              "      <td>NaN</td>\n",
              "      <td>NaN</td>\n",
              "      <td>NaN</td>\n",
              "      <td>NaN</td>\n",
              "      <td>NaN</td>\n",
              "      <td>NaN</td>\n",
              "      <td>NaN</td>\n",
              "      <td>NaN</td>\n",
              "      <td>NaN</td>\n",
              "      <td>NaN</td>\n",
              "      <td>NaN</td>\n",
              "      <td>NaN</td>\n",
              "      <td>NaN</td>\n",
              "      <td>NaN</td>\n",
              "      <td>NaN</td>\n",
              "      <td>NaN</td>\n",
              "      <td>NaN</td>\n",
              "      <td>NaN</td>\n",
              "      <td>NaN</td>\n",
              "      <td>NaN</td>\n",
              "      <td>NaN</td>\n",
              "      <td>NaN</td>\n",
              "      <td>NaN</td>\n",
              "      <td>NaN</td>\n",
              "      <td>NaN</td>\n",
              "      <td>NaN</td>\n",
              "      <td>NaN</td>\n",
              "      <td>NaN</td>\n",
              "      <td>NaN</td>\n",
              "      <td>NaN</td>\n",
              "      <td>NaN</td>\n",
              "      <td>NaN</td>\n",
              "      <td>NaN</td>\n",
              "      <td>NaN</td>\n",
              "      <td>NaN</td>\n",
              "      <td>NaN</td>\n",
              "    </tr>\n",
              "    <tr>\n",
              "      <th>64.665813</th>\n",
              "      <td>NaN</td>\n",
              "      <td>NaN</td>\n",
              "      <td>NaN</td>\n",
              "      <td>NaN</td>\n",
              "      <td>NaN</td>\n",
              "      <td>NaN</td>\n",
              "      <td>NaN</td>\n",
              "      <td>NaN</td>\n",
              "      <td>NaN</td>\n",
              "      <td>NaN</td>\n",
              "      <td>NaN</td>\n",
              "      <td>NaN</td>\n",
              "      <td>NaN</td>\n",
              "      <td>NaN</td>\n",
              "      <td>NaN</td>\n",
              "      <td>NaN</td>\n",
              "      <td>NaN</td>\n",
              "      <td>NaN</td>\n",
              "      <td>NaN</td>\n",
              "      <td>NaN</td>\n",
              "      <td>NaN</td>\n",
              "      <td>NaN</td>\n",
              "      <td>NaN</td>\n",
              "      <td>NaN</td>\n",
              "      <td>NaN</td>\n",
              "      <td>NaN</td>\n",
              "      <td>NaN</td>\n",
              "      <td>NaN</td>\n",
              "      <td>NaN</td>\n",
              "      <td>NaN</td>\n",
              "      <td>NaN</td>\n",
              "      <td>NaN</td>\n",
              "      <td>NaN</td>\n",
              "      <td>NaN</td>\n",
              "      <td>NaN</td>\n",
              "      <td>NaN</td>\n",
              "      <td>NaN</td>\n",
              "      <td>NaN</td>\n",
              "      <td>NaN</td>\n",
              "      <td>NaN</td>\n",
              "      <td>...</td>\n",
              "      <td>NaN</td>\n",
              "      <td>NaN</td>\n",
              "      <td>NaN</td>\n",
              "      <td>NaN</td>\n",
              "      <td>NaN</td>\n",
              "      <td>NaN</td>\n",
              "      <td>NaN</td>\n",
              "      <td>NaN</td>\n",
              "      <td>NaN</td>\n",
              "      <td>NaN</td>\n",
              "      <td>NaN</td>\n",
              "      <td>NaN</td>\n",
              "      <td>NaN</td>\n",
              "      <td>NaN</td>\n",
              "      <td>NaN</td>\n",
              "      <td>NaN</td>\n",
              "      <td>NaN</td>\n",
              "      <td>NaN</td>\n",
              "      <td>NaN</td>\n",
              "      <td>NaN</td>\n",
              "      <td>NaN</td>\n",
              "      <td>NaN</td>\n",
              "      <td>NaN</td>\n",
              "      <td>NaN</td>\n",
              "      <td>NaN</td>\n",
              "      <td>NaN</td>\n",
              "      <td>NaN</td>\n",
              "      <td>NaN</td>\n",
              "      <td>NaN</td>\n",
              "      <td>NaN</td>\n",
              "      <td>NaN</td>\n",
              "      <td>NaN</td>\n",
              "      <td>NaN</td>\n",
              "      <td>NaN</td>\n",
              "      <td>NaN</td>\n",
              "      <td>NaN</td>\n",
              "      <td>NaN</td>\n",
              "      <td>NaN</td>\n",
              "      <td>NaN</td>\n",
              "      <td>NaN</td>\n",
              "    </tr>\n",
              "    <tr>\n",
              "      <th>64.665818</th>\n",
              "      <td>NaN</td>\n",
              "      <td>NaN</td>\n",
              "      <td>NaN</td>\n",
              "      <td>NaN</td>\n",
              "      <td>NaN</td>\n",
              "      <td>NaN</td>\n",
              "      <td>NaN</td>\n",
              "      <td>NaN</td>\n",
              "      <td>NaN</td>\n",
              "      <td>NaN</td>\n",
              "      <td>NaN</td>\n",
              "      <td>NaN</td>\n",
              "      <td>NaN</td>\n",
              "      <td>NaN</td>\n",
              "      <td>NaN</td>\n",
              "      <td>NaN</td>\n",
              "      <td>NaN</td>\n",
              "      <td>NaN</td>\n",
              "      <td>NaN</td>\n",
              "      <td>NaN</td>\n",
              "      <td>NaN</td>\n",
              "      <td>NaN</td>\n",
              "      <td>NaN</td>\n",
              "      <td>NaN</td>\n",
              "      <td>NaN</td>\n",
              "      <td>NaN</td>\n",
              "      <td>NaN</td>\n",
              "      <td>NaN</td>\n",
              "      <td>NaN</td>\n",
              "      <td>NaN</td>\n",
              "      <td>NaN</td>\n",
              "      <td>NaN</td>\n",
              "      <td>NaN</td>\n",
              "      <td>NaN</td>\n",
              "      <td>NaN</td>\n",
              "      <td>NaN</td>\n",
              "      <td>NaN</td>\n",
              "      <td>NaN</td>\n",
              "      <td>NaN</td>\n",
              "      <td>NaN</td>\n",
              "      <td>...</td>\n",
              "      <td>NaN</td>\n",
              "      <td>NaN</td>\n",
              "      <td>NaN</td>\n",
              "      <td>NaN</td>\n",
              "      <td>NaN</td>\n",
              "      <td>NaN</td>\n",
              "      <td>NaN</td>\n",
              "      <td>NaN</td>\n",
              "      <td>NaN</td>\n",
              "      <td>NaN</td>\n",
              "      <td>NaN</td>\n",
              "      <td>NaN</td>\n",
              "      <td>NaN</td>\n",
              "      <td>NaN</td>\n",
              "      <td>NaN</td>\n",
              "      <td>NaN</td>\n",
              "      <td>NaN</td>\n",
              "      <td>NaN</td>\n",
              "      <td>NaN</td>\n",
              "      <td>NaN</td>\n",
              "      <td>NaN</td>\n",
              "      <td>NaN</td>\n",
              "      <td>NaN</td>\n",
              "      <td>NaN</td>\n",
              "      <td>NaN</td>\n",
              "      <td>NaN</td>\n",
              "      <td>NaN</td>\n",
              "      <td>NaN</td>\n",
              "      <td>NaN</td>\n",
              "      <td>NaN</td>\n",
              "      <td>NaN</td>\n",
              "      <td>NaN</td>\n",
              "      <td>NaN</td>\n",
              "      <td>NaN</td>\n",
              "      <td>NaN</td>\n",
              "      <td>NaN</td>\n",
              "      <td>NaN</td>\n",
              "      <td>NaN</td>\n",
              "      <td>NaN</td>\n",
              "      <td>NaN</td>\n",
              "    </tr>\n",
              "    <tr>\n",
              "      <th>64.665820</th>\n",
              "      <td>NaN</td>\n",
              "      <td>NaN</td>\n",
              "      <td>NaN</td>\n",
              "      <td>NaN</td>\n",
              "      <td>NaN</td>\n",
              "      <td>NaN</td>\n",
              "      <td>NaN</td>\n",
              "      <td>NaN</td>\n",
              "      <td>NaN</td>\n",
              "      <td>NaN</td>\n",
              "      <td>NaN</td>\n",
              "      <td>NaN</td>\n",
              "      <td>NaN</td>\n",
              "      <td>NaN</td>\n",
              "      <td>NaN</td>\n",
              "      <td>NaN</td>\n",
              "      <td>NaN</td>\n",
              "      <td>NaN</td>\n",
              "      <td>NaN</td>\n",
              "      <td>NaN</td>\n",
              "      <td>NaN</td>\n",
              "      <td>NaN</td>\n",
              "      <td>NaN</td>\n",
              "      <td>NaN</td>\n",
              "      <td>NaN</td>\n",
              "      <td>NaN</td>\n",
              "      <td>NaN</td>\n",
              "      <td>NaN</td>\n",
              "      <td>NaN</td>\n",
              "      <td>NaN</td>\n",
              "      <td>NaN</td>\n",
              "      <td>NaN</td>\n",
              "      <td>NaN</td>\n",
              "      <td>NaN</td>\n",
              "      <td>NaN</td>\n",
              "      <td>NaN</td>\n",
              "      <td>NaN</td>\n",
              "      <td>NaN</td>\n",
              "      <td>NaN</td>\n",
              "      <td>NaN</td>\n",
              "      <td>...</td>\n",
              "      <td>NaN</td>\n",
              "      <td>NaN</td>\n",
              "      <td>NaN</td>\n",
              "      <td>NaN</td>\n",
              "      <td>NaN</td>\n",
              "      <td>NaN</td>\n",
              "      <td>NaN</td>\n",
              "      <td>NaN</td>\n",
              "      <td>NaN</td>\n",
              "      <td>NaN</td>\n",
              "      <td>NaN</td>\n",
              "      <td>NaN</td>\n",
              "      <td>NaN</td>\n",
              "      <td>NaN</td>\n",
              "      <td>NaN</td>\n",
              "      <td>NaN</td>\n",
              "      <td>NaN</td>\n",
              "      <td>NaN</td>\n",
              "      <td>NaN</td>\n",
              "      <td>NaN</td>\n",
              "      <td>NaN</td>\n",
              "      <td>NaN</td>\n",
              "      <td>NaN</td>\n",
              "      <td>NaN</td>\n",
              "      <td>NaN</td>\n",
              "      <td>NaN</td>\n",
              "      <td>NaN</td>\n",
              "      <td>NaN</td>\n",
              "      <td>NaN</td>\n",
              "      <td>NaN</td>\n",
              "      <td>NaN</td>\n",
              "      <td>NaN</td>\n",
              "      <td>NaN</td>\n",
              "      <td>NaN</td>\n",
              "      <td>NaN</td>\n",
              "      <td>NaN</td>\n",
              "      <td>NaN</td>\n",
              "      <td>NaN</td>\n",
              "      <td>NaN</td>\n",
              "      <td>NaN</td>\n",
              "    </tr>\n",
              "  </tbody>\n",
              "</table>\n",
              "<p>5 rows × 492 columns</p>\n",
              "</div>"
            ],
            "text/plain": [
              "Longitude  NaN        13.149228  13.149238  ...  13.156110  13.156143  13.156150\n",
              "Latitude                                    ...                                 \n",
              "NaN              NaN        NaN        NaN  ...        NaN        NaN        NaN\n",
              "64.665803        NaN        NaN        NaN  ...        NaN        NaN        NaN\n",
              "64.665813        NaN        NaN        NaN  ...        NaN        NaN        NaN\n",
              "64.665818        NaN        NaN        NaN  ...        NaN        NaN        NaN\n",
              "64.665820        NaN        NaN        NaN  ...        NaN        NaN        NaN\n",
              "\n",
              "[5 rows x 492 columns]"
            ]
          },
          "metadata": {
            "tags": []
          },
          "execution_count": 22
        }
      ]
    },
    {
      "cell_type": "code",
      "metadata": {
        "id": "E8eHe6gtnhWs",
        "colab_type": "code",
        "outputId": "1f2154b4-0d52-42f2-dc58-ab0cdfe70b71",
        "colab": {
          "base_uri": "https://localhost:8080/",
          "height": 728
        }
      },
      "source": [
        "import matplotlib.pyplot as plt\n",
        "plt.figure(figsize=(10, 10))\n",
        "sns.heatmap(Norway_Mag,cmap=\"OrRd\")"
      ],
      "execution_count": 26,
      "outputs": [
        {
          "output_type": "execute_result",
          "data": {
            "text/plain": [
              "<matplotlib.axes._subplots.AxesSubplot at 0x7fb322462da0>"
            ]
          },
          "metadata": {
            "tags": []
          },
          "execution_count": 26
        },
        {
          "output_type": "display_data",
          "data": {
            "image/png": "[encoded data removed]",
            "text/plain": [
              "<Figure size 720x720 with 2 Axes>"
            ]
          },
          "metadata": {
            "tags": []
          }
        }
      ]
    },
    {
      "cell_type": "markdown",
      "metadata": {
        "id": "w-GrX6suh29l",
        "colab_type": "text"
      },
      "source": [
        ""
      ]
    },
    {
      "cell_type": "code",
      "metadata": {
        "colab_type": "code",
        "id": "olvZi2nrh3vD",
        "colab": {}
      },
      "source": [
        "zim_gold = zim_gold.pivot('Northings','Eastings','Au-gpt')"
      ],
      "execution_count": 0,
      "outputs": []
    },
    {
      "cell_type": "code",
      "metadata": {
        "id": "6Mqf295djLcP",
        "colab_type": "code",
        "outputId": "20c3251e-b717-4d9d-9504-50b62a21a722",
        "colab": {
          "base_uri": "https://localhost:8080/",
          "height": 235
        }
      },
      "source": [
        "zim_gold.head(5)"
      ],
      "execution_count": 28,
      "outputs": [
        {
          "output_type": "execute_result",
          "data": {
            "text/html": [
              "<div>\n",
              "<style scoped>\n",
              "    .dataframe tbody tr th:only-of-type {\n",
              "        vertical-align: middle;\n",
              "    }\n",
              "\n",
              "    .dataframe tbody tr th {\n",
              "        vertical-align: top;\n",
              "    }\n",
              "\n",
              "    .dataframe thead th {\n",
              "        text-align: right;\n",
              "    }\n",
              "</style>\n",
              "<table border=\"1\" class=\"dataframe\">\n",
              "  <thead>\n",
              "    <tr style=\"text-align: right;\">\n",
              "      <th>Eastings</th>\n",
              "      <th>12065</th>\n",
              "      <th>12115</th>\n",
              "      <th>12165</th>\n",
              "      <th>12215</th>\n",
              "      <th>12265</th>\n",
              "      <th>12315</th>\n",
              "      <th>12365</th>\n",
              "    </tr>\n",
              "    <tr>\n",
              "      <th>Northings</th>\n",
              "      <th></th>\n",
              "      <th></th>\n",
              "      <th></th>\n",
              "      <th></th>\n",
              "      <th></th>\n",
              "      <th></th>\n",
              "      <th></th>\n",
              "    </tr>\n",
              "  </thead>\n",
              "  <tbody>\n",
              "    <tr>\n",
              "      <th>7725</th>\n",
              "      <td>0.011</td>\n",
              "      <td>0.0115</td>\n",
              "      <td>0.010</td>\n",
              "      <td>3.0000</td>\n",
              "      <td>1.350</td>\n",
              "      <td>0.0130</td>\n",
              "      <td>1.900</td>\n",
              "    </tr>\n",
              "    <tr>\n",
              "      <th>7775</th>\n",
              "      <td>0.010</td>\n",
              "      <td>0.0151</td>\n",
              "      <td>0.011</td>\n",
              "      <td>0.0115</td>\n",
              "      <td>0.013</td>\n",
              "      <td>15.2000</td>\n",
              "      <td>0.014</td>\n",
              "    </tr>\n",
              "    <tr>\n",
              "      <th>7825</th>\n",
              "      <td>0.018</td>\n",
              "      <td>0.0130</td>\n",
              "      <td>0.011</td>\n",
              "      <td>0.0112</td>\n",
              "      <td>0.013</td>\n",
              "      <td>0.0110</td>\n",
              "      <td>2.500</td>\n",
              "    </tr>\n",
              "    <tr>\n",
              "      <th>7875</th>\n",
              "      <td>0.014</td>\n",
              "      <td>3.2000</td>\n",
              "      <td>0.011</td>\n",
              "      <td>0.0164</td>\n",
              "      <td>0.011</td>\n",
              "      <td>7.6000</td>\n",
              "      <td>4.600</td>\n",
              "    </tr>\n",
              "    <tr>\n",
              "      <th>7925</th>\n",
              "      <td>0.010</td>\n",
              "      <td>0.0135</td>\n",
              "      <td>2.440</td>\n",
              "      <td>8.2000</td>\n",
              "      <td>0.011</td>\n",
              "      <td>0.0125</td>\n",
              "      <td>0.010</td>\n",
              "    </tr>\n",
              "  </tbody>\n",
              "</table>\n",
              "</div>"
            ],
            "text/plain": [
              "Eastings   12065   12115  12165   12215  12265    12315  12365\n",
              "Northings                                                     \n",
              "7725       0.011  0.0115  0.010  3.0000  1.350   0.0130  1.900\n",
              "7775       0.010  0.0151  0.011  0.0115  0.013  15.2000  0.014\n",
              "7825       0.018  0.0130  0.011  0.0112  0.013   0.0110  2.500\n",
              "7875       0.014  3.2000  0.011  0.0164  0.011   7.6000  4.600\n",
              "7925       0.010  0.0135  2.440  8.2000  0.011   0.0125  0.010"
            ]
          },
          "metadata": {
            "tags": []
          },
          "execution_count": 28
        }
      ]
    },
    {
      "cell_type": "code",
      "metadata": {
        "colab_type": "code",
        "outputId": "5448da33-5ab0-4d42-becf-5eb2cceea66b",
        "id": "_Et2osoBiT84",
        "colab": {
          "base_uri": "https://localhost:8080/",
          "height": 1000
        }
      },
      "source": [
        "import matplotlib.pyplot as plt\n",
        "plt.figure(figsize=(10, 20))\n",
        "sns.heatmap(zim_gold,cmap=\"OrRd\")"
      ],
      "execution_count": 30,
      "outputs": [
        {
          "output_type": "execute_result",
          "data": {
            "text/plain": [
              "<matplotlib.axes._subplots.AxesSubplot at 0x7fb320a12278>"
            ]
          },
          "metadata": {
            "tags": []
          },
          "execution_count": 30
        },
        {
          "output_type": "display_data",
          "data": {
            "image/png": "[encoded data removed]",
            "text/plain": [
              "<Figure size 720x1440 with 2 Axes>"
            ]
          },
          "metadata": {
            "tags": []
          }
        }
      ]
    },
    {
      "cell_type": "code",
      "metadata": {
        "colab_type": "code",
        "id": "XmiDgSFgiA8K",
        "colab": {}
      },
      "source": [
        "sns.heatmap(Norway_Mag,cmap=\"OrRd\")"
      ],
      "execution_count": 0,
      "outputs": []
    },
    {
      "cell_type": "code",
      "metadata": {
        "id": "6RjKFka1d5Ph",
        "colab_type": "code",
        "colab": {}
      },
      "source": [
        "flights = sns.load_dataset(\"flights\")"
      ],
      "execution_count": 0,
      "outputs": []
    },
    {
      "cell_type": "code",
      "metadata": {
        "id": "9LtP0bA-eEb3",
        "colab_type": "code",
        "colab": {}
      },
      "source": [
        "flights.head (5)"
      ],
      "execution_count": 0,
      "outputs": []
    },
    {
      "cell_type": "markdown",
      "metadata": {
        "id": "S6qsjN7mg5Ji",
        "colab_type": "text"
      },
      "source": [
        ""
      ]
    },
    {
      "cell_type": "markdown",
      "metadata": {
        "id": "KsX62eu-hAOh",
        "colab_type": "text"
      },
      "source": [
        "flight_matrix = flights_raw.pivot(\"month\", \"year\", \"passengers\")\n",
        "\n",
        "flight_matrix\n"
      ]
    },
    {
      "cell_type": "code",
      "metadata": {
        "id": "g7WVUAEilqD7",
        "colab_type": "code",
        "colab": {}
      },
      "source": [
        "flights = flights.pivot('month','year','passengers')"
      ],
      "execution_count": 0,
      "outputs": []
    },
    {
      "cell_type": "code",
      "metadata": {
        "id": "qm-RmXE5mfwC",
        "colab_type": "code",
        "colab": {}
      },
      "source": [
        "sns.heatmap(flights,cmap=\"OrRd\")"
      ],
      "execution_count": 0,
      "outputs": []
    },
    {
      "cell_type": "code",
      "metadata": {
        "id": "3PHq6b7beY6C",
        "colab_type": "code",
        "colab": {}
      },
      "source": [
        "flights = flights_long.pivot(\"month\", \"year\", \"passengers\")"
      ],
      "execution_count": 0,
      "outputs": []
    },
    {
      "cell_type": "code",
      "metadata": {
        "colab_type": "code",
        "id": "MmRZAXVnYfpj",
        "colab": {}
      },
      "source": [
        "f, ax = plt.subplots(figsize=(14, 13))\n",
        "sns.heatmap(flights, annot=True, fmt=\"d\", linewidths=.5, ax=ax, cmap=\"Greens\")\n",
        "ax.axes.set_title(\"Heatmap of Count of Flights by Month and Year\", fontsize=24, y=1.01);"
      ],
      "execution_count": 0,
      "outputs": []
    },
    {
      "cell_type": "markdown",
      "metadata": {
        "id": "WpekZaB8iKMg",
        "colab_type": "text"
      },
      "source": [
        "Now try some seaborn stuff\n",
        "\n",
        "flights_raw = pd.read_csv('flights.csv')\n",
        "flights_raw[\"month\"] = pd.Categorical(flights_raw[\"month\"], flights_raw.month.unique())\n",
        "flights_raw.head()\n",
        "\n",
        "\n"
      ]
    },
    {
      "cell_type": "code",
      "metadata": {
        "id": "FC6s5yH1aiVy",
        "colab_type": "code",
        "colab": {}
      },
      "source": [
        "flights_raw = pd.read_csv('flights.csv') flights_raw[\"month\"] = pd.Categorical(flights_raw[\"month\"], flights_raw.month.unique()) flights_raw.head()"
      ],
      "execution_count": 0,
      "outputs": []
    },
    {
      "cell_type": "code",
      "metadata": {
        "colab_type": "code",
        "id": "IX_Npdg9YZ6z",
        "colab": {}
      },
      "source": [
        "flight_matrix = flights_raw.pivot(\"month\", \"year\", \"passengers\")\n",
        "flight_matrix"
      ],
      "execution_count": 0,
      "outputs": []
    },
    {
      "cell_type": "code",
      "metadata": {
        "colab_type": "code",
        "id": "x-6rkJWGiwcZ",
        "colab": {}
      },
      "source": [
        "Norway_matrix = Norway_Mag.pivot(\"latitude\", \"longitude\", \"Mag_Field¨)\n",
        "Norway_matrix"
      ],
      "execution_count": 0,
      "outputs": []
    },
    {
      "cell_type": "code",
      "metadata": {
        "id": "ypV3_O2-iQQZ",
        "colab_type": "code",
        "colab": {}
      },
      "source": [
        ""
      ],
      "execution_count": 0,
      "outputs": []
    },
    {
      "cell_type": "markdown",
      "metadata": {
        "id": "vQ5TfU-miAU3",
        "colab_type": "text"
      },
      "source": [
        ""
      ]
    },
    {
      "cell_type": "code",
      "metadata": {
        "id": "yiIIolET1V-r",
        "colab_type": "code",
        "colab": {}
      },
      "source": [
        "df = pd.read_csv ('/content/flights.csv')"
      ],
      "execution_count": 0,
      "outputs": []
    },
    {
      "cell_type": "code",
      "metadata": {
        "id": "y6OE2Dx_1pcX",
        "colab_type": "code",
        "colab": {}
      },
      "source": [
        "df.head(5)"
      ],
      "execution_count": 0,
      "outputs": []
    },
    {
      "cell_type": "code",
      "metadata": {
        "id": "IxrVv8ho2FQ-",
        "colab_type": "code",
        "colab": {}
      },
      "source": [
        "flights_raw = pd.read_csv('flights.csv')\n",
        "flights_raw[\"month\"] = pd.Categorical(flights_raw[\"month\"], flights_raw.month.unique())\n",
        "flights_raw.head()"
      ],
      "execution_count": 0,
      "outputs": []
    },
    {
      "cell_type": "code",
      "metadata": {
        "id": "ByD5V5fO2Rf_",
        "colab_type": "code",
        "colab": {}
      },
      "source": [
        "flight_matrix = flights_raw.pivot(\"month\", \"year\", \"passengers\")\n",
        "flight_matrix"
      ],
      "execution_count": 0,
      "outputs": []
    },
    {
      "cell_type": "markdown",
      "metadata": {
        "colab_type": "text",
        "id": "xi5NN_5b-E_Q"
      },
      "source": [
        "/content/zim-grab-gold-no-z.csv\n",
        "\n",
        "df = pd.read_csv ('/content/zim-grab-gold-no-z.csv') "
      ]
    },
    {
      "cell_type": "markdown",
      "metadata": {
        "colab_type": "text",
        "id": "RmbyZjhe-Dry"
      },
      "source": [
        "/content/zim-grab-gold-no-z.csv\n",
        "\n",
        "df = pd.read_csv ('/content/zim-grab-gold-no-z.csv') "
      ]
    },
    {
      "cell_type": "code",
      "metadata": {
        "id": "hYv3jfurn1xA",
        "colab_type": "code",
        "colab": {}
      },
      "source": [
        "import matplotlib.ticker as ticker\n",
        "import matplotlib.cm as cm\n",
        "import matplotlib as mpl\n",
        "\n",
        "import matplotlib.pyplot as plt\n",
        "%matplotlib inline"
      ],
      "execution_count": 0,
      "outputs": []
    },
    {
      "cell_type": "code",
      "metadata": {
        "id": "vbvXdEZX2mrt",
        "colab_type": "code",
        "colab": {}
      },
      "source": [
        "fig, ax = plt.subplots(1,1, figsize=(12,12))\n",
        "heatplot = ax.imshow(flight_matrix, cmap='BuPu')\n",
        "ax.set_xticklabels(flight_matrix.columns)\n",
        "ax.set_yticklabels(flight_matrix.index)"
      ],
      "execution_count": 0,
      "outputs": []
    },
    {
      "cell_type": "code",
      "metadata": {
        "id": "6ffAzG4j2qdR",
        "colab_type": "code",
        "colab": {}
      },
      "source": [
        "tick_spacing = 1\n",
        "ax.xaxis.set_major_locator(ticker.MultipleLocator(tick_spacing))\n",
        "ax.yaxis.set_major_locator(ticker.MultipleLocator(tick_spacing))\n",
        "ax.set_title(\"Heatmap of Flight Density from 1949 to 1961\")\n",
        "ax.set_xlabel('Year')\n",
        "ax.set_ylabel('Month')"
      ],
      "execution_count": 0,
      "outputs": []
    },
    {
      "cell_type": "code",
      "metadata": {
        "id": "rC0ohMLx3Dgg",
        "colab_type": "code",
        "colab": {}
      },
      "source": [
        "import seaborn as sns\n",
        "fig = plt.figure(figsize=(12,12))\n",
        "r = sns.heatmap(flight_matrix, cmap='BuPu')\n",
        "r.set_title(\"Heatmap of Flight Density from 1949 to 1961\")"
      ],
      "execution_count": 0,
      "outputs": []
    },
    {
      "cell_type": "code",
      "metadata": {
        "id": "6nnDl8ci3Rus",
        "colab_type": "code",
        "colab": {}
      },
      "source": [
        "from plotnine import * \n",
        "\n",
        "fig = plt.figure()"
      ],
      "execution_count": 0,
      "outputs": []
    },
    {
      "cell_type": "code",
      "metadata": {
        "id": "kB8Y5EbT3Vuz",
        "colab_type": "code",
        "colab": {}
      },
      "source": [
        "ggplot(flight_rows, aes('year', 'month')) + geom_tile(aes(fill='passengers'))\\\n",
        "    + scale_fill_gradientn(colors=['#9ebcda','#8c6bb1','#88419d','#6e016b']) \\\n",
        "    + ggtitle(\"Heatmap of Flight Density from 1949 to 1961\")"
      ],
      "execution_count": 0,
      "outputs": []
    },
    {
      "cell_type": "code",
      "metadata": {
        "colab_type": "code",
        "id": "YlMmTueRn3OL",
        "colab": {}
      },
      "source": [
        "df.head(5)"
      ],
      "execution_count": 0,
      "outputs": []
    },
    {
      "cell_type": "code",
      "metadata": {
        "id": "gH2k0u3Wn-Nu",
        "colab_type": "code",
        "colab": {}
      },
      "source": [
        "import pandas as pd\n",
        "import numpy as np\n",
        "import matplotlib.pyplot as plt\n",
        "import seaborn as sns"
      ],
      "execution_count": 0,
      "outputs": []
    },
    {
      "cell_type": "code",
      "metadata": {
        "id": "KfMOHD-uoqZy",
        "colab_type": "code",
        "colab": {}
      },
      "source": [
        "plt.figure(figsize=(10,5)\n",
        "sns.heatmap(df.corr())"
      ],
      "execution_count": 0,
      "outputs": []
    },
    {
      "cell_type": "code",
      "metadata": {
        "id": "GScNfVF0pN-G",
        "colab_type": "code",
        "colab": {}
      },
      "source": [
        "plt.figure(figsize=(9,5)\n",
        "sns.heatmap(df.corr(),annot=True)"
      ],
      "execution_count": 0,
      "outputs": []
    },
    {
      "cell_type": "markdown",
      "metadata": {
        "colab_type": "text",
        "id": "xNzEBRkzL3B0"
      },
      "source": [
        "## Matplotlib\n",
        "\n",
        "[Matplotlib](http://matplotlib.org/) is the most common charting package, see its [documentation](http://matplotlib.org/api/pyplot_api.html) for details, and its [examples](http://matplotlib.org/gallery.html#statistics) for inspiration."
      ]
    },
    {
      "cell_type": "markdown",
      "metadata": {
        "colab_type": "text",
        "id": "WALI8x49GUpe"
      },
      "source": [
        "### Line Plots"
      ]
    },
    {
      "cell_type": "code",
      "metadata": {
        "colab_type": "code",
        "id": "08RTGn_xE3MP",
        "colab": {}
      },
      "source": [
        "import matplotlib.pyplot as plt\n",
        "\n",
        "x  = [1, 2, 3, 4, 5, 6, 7, 8, 9]\n",
        "y1 = [1, 3, 5, 3, 1, 3, 5, 3, 1]\n",
        "y2 = [2, 4, 6, 4, 2, 4, 6, 4, 2]\n",
        "plt.plot(x, y1, label=\"line L\")\n",
        "plt.plot(x, y2, label=\"line H\")\n",
        "plt.plot()\n",
        "\n",
        "plt.xlabel(\"x axis\")\n",
        "plt.ylabel(\"y axis\")\n",
        "plt.title(\"Line Graph Example\")\n",
        "plt.legend()\n",
        "plt.show()"
      ],
      "execution_count": 0,
      "outputs": []
    },
    {
      "cell_type": "markdown",
      "metadata": {
        "colab_type": "text",
        "id": "sIZLTZ0pdo0Z"
      },
      "source": [
        "### Bar Plots"
      ]
    },
    {
      "cell_type": "code",
      "metadata": {
        "colab_type": "code",
        "id": "bZv4MenQpYOF",
        "colab": {}
      },
      "source": [
        "import matplotlib.pyplot as plt\n",
        "\n",
        "# Look at index 4 and 6, which demonstrate overlapping cases.\n",
        "x1 = [1, 3, 4, 5, 6, 7, 9]\n",
        "y1 = [4, 7, 2, 4, 7, 8, 3]\n",
        "\n",
        "x2 = [2, 4, 6, 8, 10]\n",
        "y2 = [5, 6, 2, 6, 2]\n",
        "\n",
        "# Colors: https://matplotlib.org/api/colors_api.html\n",
        "\n",
        "plt.bar(x1, y1, label=\"Blue Bar\", color='b')\n",
        "plt.bar(x2, y2, label=\"Green Bar\", color='g')\n",
        "plt.plot()\n",
        "\n",
        "plt.xlabel(\"bar number\")\n",
        "plt.ylabel(\"bar height\")\n",
        "plt.title(\"Bar Chart Example\")\n",
        "plt.legend()\n",
        "plt.show()"
      ],
      "execution_count": 0,
      "outputs": []
    },
    {
      "cell_type": "markdown",
      "metadata": {
        "colab_type": "text",
        "id": "YQO2Lw8Xdu7x"
      },
      "source": [
        "### Histograms"
      ]
    },
    {
      "cell_type": "code",
      "metadata": {
        "cellView": "both",
        "colab_type": "code",
        "id": "SZ-DMbnPMbMY",
        "colab": {}
      },
      "source": [
        "import matplotlib.pyplot as plt\n",
        "import numpy as np\n",
        "\n",
        "# Use numpy to generate a bunch of random data in a bell curve around 5.\n",
        "n = 5 + np.random.randn(1000)\n",
        "\n",
        "m = [m for m in range(len(n))]\n",
        "plt.bar(m, n)\n",
        "plt.title(\"Raw Data\")\n",
        "plt.show()\n",
        "\n",
        "plt.hist(n, bins=20)\n",
        "plt.title(\"Histogram\")\n",
        "plt.show()\n",
        "\n",
        "plt.hist(n, cumulative=True, bins=20)\n",
        "plt.title(\"Cumulative Histogram\")\n",
        "plt.show()"
      ],
      "execution_count": 0,
      "outputs": []
    },
    {
      "cell_type": "markdown",
      "metadata": {
        "colab_type": "text",
        "id": "9-CelVUmdz8r"
      },
      "source": [
        "### Scatter Plots"
      ]
    },
    {
      "cell_type": "code",
      "metadata": {
        "colab_type": "code",
        "id": "79C7jc9mv-Ji",
        "colab": {}
      },
      "source": [
        "import matplotlib.pyplot as plt\n",
        "\n",
        "x1 = [2, 3, 4]\n",
        "y1 = [5, 5, 5]\n",
        "\n",
        "x2 = [1, 2, 3, 4, 5]\n",
        "y2 = [2, 3, 2, 3, 4]\n",
        "y3 = [6, 8, 7, 8, 7]\n",
        "\n",
        "# Markers: https://matplotlib.org/api/markers_api.html\n",
        "\n",
        "plt.scatter(x1, y1)\n",
        "plt.scatter(x2, y2, marker='v', color='r')\n",
        "plt.scatter(x2, y3, marker='^', color='m')\n",
        "plt.title('Scatter Plot Example')\n",
        "plt.show()"
      ],
      "execution_count": 0,
      "outputs": []
    },
    {
      "cell_type": "markdown",
      "metadata": {
        "colab_type": "text",
        "id": "nlk-Sk0Nd82p"
      },
      "source": [
        "### Stack Plots"
      ]
    },
    {
      "cell_type": "code",
      "metadata": {
        "colab_type": "code",
        "id": "5sxEM0pJzpgr",
        "colab": {}
      },
      "source": [
        "import matplotlib.pyplot as plt\n",
        "\n",
        "idxes = [ 1,  2,  3,  4,  5,  6,  7,  8,  9]\n",
        "arr1  = [23, 40, 28, 43,  8, 44, 43, 18, 17]\n",
        "arr2  = [17, 30, 22, 14, 17, 17, 29, 22, 30]\n",
        "arr3  = [15, 31, 18, 22, 18, 19, 13, 32, 39]\n",
        "\n",
        "# Adding legend for stack plots is tricky.\n",
        "plt.plot([], [], color='r', label = 'D 1')\n",
        "plt.plot([], [], color='g', label = 'D 2')\n",
        "plt.plot([], [], color='b', label = 'D 3')\n",
        "\n",
        "plt.stackplot(idxes, arr1, arr2, arr3, colors= ['r', 'g', 'b'])\n",
        "plt.title('Stack Plot Example')\n",
        "plt.legend()\n",
        "plt.show()"
      ],
      "execution_count": 0,
      "outputs": []
    },
    {
      "cell_type": "markdown",
      "metadata": {
        "colab_type": "text",
        "id": "C0LOohpqeCjx"
      },
      "source": [
        "### Pie Charts"
      ]
    },
    {
      "cell_type": "code",
      "metadata": {
        "colab_type": "code",
        "id": "ZdEG-d4g4U6v",
        "colab": {}
      },
      "source": [
        "import matplotlib.pyplot as plt\n",
        "\n",
        "labels = 'S1', 'S2', 'S3'\n",
        "sections = [56, 66, 24]\n",
        "colors = ['c', 'g', 'y']\n",
        "\n",
        "plt.pie(sections, labels=labels, colors=colors,\n",
        "        startangle=90,\n",
        "        explode = (0, 0.1, 0),\n",
        "        autopct = '%1.2f%%')\n",
        "\n",
        "plt.axis('equal') # Try commenting this out.\n",
        "plt.title('Pie Chart Example')\n",
        "plt.show()"
      ],
      "execution_count": 0,
      "outputs": []
    },
    {
      "cell_type": "markdown",
      "metadata": {
        "colab_type": "text",
        "id": "sX97x87MTyIf"
      },
      "source": [
        "### fill_between and alpha"
      ]
    },
    {
      "cell_type": "code",
      "metadata": {
        "colab_type": "code",
        "id": "BCUl8mTMT4sN",
        "colab": {}
      },
      "source": [
        "import matplotlib.pyplot as plt\n",
        "import numpy as np\n",
        "\n",
        "ys = 200 + np.random.randn(100)\n",
        "x = [x for x in range(len(ys))]\n",
        "\n",
        "plt.plot(x, ys, '-')\n",
        "plt.fill_between(x, ys, 195, where=(ys > 195), facecolor='g', alpha=0.6)\n",
        "\n",
        "plt.title(\"Fills and Alpha Example\")\n",
        "plt.show()"
      ],
      "execution_count": 0,
      "outputs": []
    },
    {
      "cell_type": "markdown",
      "metadata": {
        "colab_type": "text",
        "id": "jONspxyzeT4Y"
      },
      "source": [
        "### Subplotting using Subplot2grid"
      ]
    },
    {
      "cell_type": "code",
      "metadata": {
        "colab_type": "code",
        "id": "JF-dVGj3ExQm",
        "colab": {}
      },
      "source": [
        "import matplotlib.pyplot as plt\n",
        "import numpy as np\n",
        "\n",
        "def random_plots():\n",
        "  xs = []\n",
        "  ys = []\n",
        "  \n",
        "  for i in range(20):\n",
        "    x = i\n",
        "    y = np.random.randint(10)\n",
        "    \n",
        "    xs.append(x)\n",
        "    ys.append(y)\n",
        "  \n",
        "  return xs, ys\n",
        "\n",
        "fig = plt.figure()\n",
        "ax1 = plt.subplot2grid((5, 2), (0, 0), rowspan=1, colspan=2)\n",
        "ax2 = plt.subplot2grid((5, 2), (1, 0), rowspan=3, colspan=2)\n",
        "ax3 = plt.subplot2grid((5, 2), (4, 0), rowspan=1, colspan=1)\n",
        "ax4 = plt.subplot2grid((5, 2), (4, 1), rowspan=1, colspan=1)\n",
        "\n",
        "x, y = random_plots()\n",
        "ax1.plot(x, y)\n",
        "\n",
        "x, y = random_plots()\n",
        "ax2.plot(x, y)\n",
        "\n",
        "x, y = random_plots()\n",
        "ax3.plot(x, y)\n",
        "\n",
        "x, y = random_plots()\n",
        "ax4.plot(x, y)\n",
        "\n",
        "plt.tight_layout()\n",
        "plt.show()"
      ],
      "execution_count": 0,
      "outputs": []
    },
    {
      "cell_type": "markdown",
      "metadata": {
        "colab_type": "text",
        "id": "fllyxKu8edm6"
      },
      "source": [
        "## Plot styles\n",
        "\n",
        "Colaboratory charts use [Seaborn's](https://seaborn.pydata.org) custom styling by default. To customize styling further please see the [matplotlib docs](https://matplotlib.org/users/style_sheets.html)."
      ]
    },
    {
      "cell_type": "markdown",
      "metadata": {
        "colab_type": "text",
        "id": "Xn0jLwr8evoR"
      },
      "source": [
        "## 3D Graphs"
      ]
    },
    {
      "cell_type": "markdown",
      "metadata": {
        "colab_type": "text",
        "id": "DrRCtocXe9SB"
      },
      "source": [
        "### 3D Scatter Plots"
      ]
    },
    {
      "cell_type": "code",
      "metadata": {
        "colab_type": "code",
        "id": "Eo2bdDQ5GZ76",
        "colab": {}
      },
      "source": [
        "import matplotlib.pyplot as plt\n",
        "import numpy as np\n",
        "from mpl_toolkits.mplot3d import axes3d\n",
        "\n",
        "fig = plt.figure()\n",
        "ax = fig.add_subplot(111, projection = '3d')\n",
        "\n",
        "x1 = [1, 2, 3, 4, 5, 6, 7, 8, 9, 10]\n",
        "y1 = np.random.randint(10, size=10)\n",
        "z1 = np.random.randint(10, size=10)\n",
        "\n",
        "x2 = [-1, -2, -3, -4, -5, -6, -7, -8, -9, -10]\n",
        "y2 = np.random.randint(-10, 0, size=10)\n",
        "z2 = np.random.randint(10, size=10)\n",
        "\n",
        "ax.scatter(x1, y1, z1, c='b', marker='o', label='blue')\n",
        "ax.scatter(x2, y2, z2, c='g', marker='D', label='green')\n",
        "\n",
        "ax.set_xlabel('x axis')\n",
        "ax.set_ylabel('y axis')\n",
        "ax.set_zlabel('z axis')\n",
        "plt.title(\"3D Scatter Plot Example\")\n",
        "plt.legend()\n",
        "plt.tight_layout()\n",
        "plt.show()"
      ],
      "execution_count": 0,
      "outputs": []
    },
    {
      "cell_type": "markdown",
      "metadata": {
        "colab_type": "text",
        "id": "MXVPkFpTfCE-"
      },
      "source": [
        "### 3D Bar Plots"
      ]
    },
    {
      "cell_type": "code",
      "metadata": {
        "colab_type": "code",
        "id": "YGi1XPCrGsQz",
        "colab": {}
      },
      "source": [
        "import matplotlib.pyplot as plt\n",
        "import numpy as np\n",
        "\n",
        "fig = plt.figure()\n",
        "ax = fig.add_subplot(111, projection = '3d')\n",
        "\n",
        "x = [1, 2, 3, 4, 5, 6, 7, 8, 9, 10]\n",
        "y = np.random.randint(10, size=10)\n",
        "z = np.zeros(10)\n",
        "\n",
        "dx = np.ones(10)\n",
        "dy = np.ones(10)\n",
        "dz = [1, 2, 3, 4, 5, 6, 7, 8, 9, 10]\n",
        "\n",
        "ax.bar3d(x, y, z, dx, dy, dz, color='g')\n",
        "\n",
        "ax.set_xlabel('x axis')\n",
        "ax.set_ylabel('y axis')\n",
        "ax.set_zlabel('z axis')\n",
        "plt.title(\"3D Bar Chart Example\")\n",
        "plt.tight_layout()\n",
        "plt.show()"
      ],
      "execution_count": 0,
      "outputs": []
    },
    {
      "cell_type": "markdown",
      "metadata": {
        "colab_type": "text",
        "id": "Xbey0KVpfIbQ"
      },
      "source": [
        "### Wireframe Plots"
      ]
    },
    {
      "cell_type": "code",
      "metadata": {
        "colab_type": "code",
        "id": "60f2SO4jIfQz",
        "colab": {}
      },
      "source": [
        "import matplotlib.pyplot as plt\n",
        "\n",
        "fig = plt.figure()\n",
        "ax = fig.add_subplot(111, projection = '3d')\n",
        "\n",
        "x, y, z = axes3d.get_test_data()\n",
        "\n",
        "ax.plot_wireframe(x, y, z, rstride = 2, cstride = 2)\n",
        "\n",
        "plt.title(\"Wireframe Plot Example\")\n",
        "plt.tight_layout()\n",
        "plt.show()"
      ],
      "execution_count": 0,
      "outputs": []
    },
    {
      "cell_type": "markdown",
      "metadata": {
        "colab_type": "text",
        "id": "cRkuifc7PazR"
      },
      "source": [
        "## Seaborn\n",
        "\n",
        "There are several libraries layered on top of Matplotlib that you can use in Colab. One that is worth highlighting is [Seaborn](http://seaborn.pydata.org):"
      ]
    },
    {
      "cell_type": "code",
      "metadata": {
        "cellView": "both",
        "colab_type": "code",
        "id": "el13bTbyPRw4",
        "colab": {}
      },
      "source": [
        "import matplotlib.pyplot as plt\n",
        "import numpy as np\n",
        "import seaborn as sns\n",
        "\n",
        "# Generate some random data\n",
        "num_points = 20\n",
        "# x will be 5, 6, 7... but also twiddled randomly\n",
        "x = 5 + np.arange(num_points) + np.random.randn(num_points)\n",
        "# y will be 10, 11, 12... but twiddled even more randomly\n",
        "y = 10 + np.arange(num_points) + 5 * np.random.randn(num_points)\n",
        "sns.regplot(x, y)\n",
        "plt.show()"
      ],
      "execution_count": 0,
      "outputs": []
    },
    {
      "cell_type": "markdown",
      "metadata": {
        "colab_type": "text",
        "id": "MoWj1knmTZPI"
      },
      "source": [
        "That's a simple scatterplot with a nice regression line fit to it, all with just one call to Seaborn's [regplot](http://seaborn.pydata.org/generated/seaborn.regplot.html#seaborn.regplot).\n",
        "\n",
        "Here's a Seaborn [heatmap](https://seaborn.pydata.org/generated/seaborn.heatmap.html):"
      ]
    },
    {
      "cell_type": "code",
      "metadata": {
        "cellView": "both",
        "colab_type": "code",
        "id": "Fjw7UfGZQcL9",
        "colab": {}
      },
      "source": [
        "import matplotlib.pyplot as plt\n",
        "import numpy as np\n",
        "\n",
        "# Make a 10 x 10 heatmap of some random data\n",
        "side_length = 10\n",
        "# Start with a 10 x 10 matrix with values randomized around 5\n",
        "data = 5 + np.random.randn(side_length, side_length)\n",
        "# The next two lines make the values larger as we get closer to (9, 9)\n",
        "data += np.arange(side_length)\n",
        "data += np.reshape(np.arange(side_length), (side_length, 1))\n",
        "# Generate the heatmap\n",
        "sns.heatmap(data)\n",
        "plt.show()"
      ],
      "execution_count": 0,
      "outputs": []
    },
    {
      "cell_type": "markdown",
      "metadata": {
        "colab_type": "text",
        "id": "beTgCbVa_wFA"
      },
      "source": [
        "## Altair"
      ]
    },
    {
      "cell_type": "markdown",
      "metadata": {
        "colab_type": "text",
        "id": "610XkhS2Atb0"
      },
      "source": [
        "[Altair](http://altair-viz.github.io) is a declarative visualization library for creating interactive visualizations in Python, and is installed and enabled in Colab by default.\n",
        "\n",
        "For example, here is an interactive scatter plot:"
      ]
    },
    {
      "cell_type": "code",
      "metadata": {
        "colab_type": "code",
        "id": "lIYdn1woOS1n",
        "colab": {}
      },
      "source": [
        "import altair as alt\n",
        "from vega_datasets import data\n",
        "cars = data.cars()\n",
        "\n",
        "alt.Chart(cars).mark_point().encode(\n",
        "    x='Horsepower',\n",
        "    y='Miles_per_Gallon',\n",
        "    color='Origin',\n",
        ").interactive()"
      ],
      "execution_count": 0,
      "outputs": []
    },
    {
      "cell_type": "markdown",
      "metadata": {
        "colab_type": "text",
        "id": "zPAYx6C_tSdc"
      },
      "source": [
        "For more examples of Altair plots, see the [Altair snippets notebook](/notebooks/snippets/altair.ipynb) or the external [Altair Example Gallery](https://altair-viz.github.io/gallery/)."
      ]
    },
    {
      "cell_type": "markdown",
      "metadata": {
        "colab_type": "text",
        "id": "MYqcrcKLO4xe"
      },
      "source": [
        "## Plotly"
      ]
    },
    {
      "cell_type": "markdown",
      "metadata": {
        "colab_type": "text",
        "id": "niTJd49yO4xf"
      },
      "source": [
        "### Cell configuration\n",
        "This method pre-populates the outputframe with the configuration that Plotly expects and must be executed for every cell which is displaying a Plotly graph.\n"
      ]
    },
    {
      "cell_type": "code",
      "metadata": {
        "colab_type": "code",
        "id": "WWbPMtDkO4xg",
        "colab": {}
      },
      "source": [
        "def enable_plotly_in_cell():\n",
        "  import IPython\n",
        "  from plotly.offline import init_notebook_mode\n",
        "  display(IPython.core.display.HTML('''\n",
        "        <script src=\"/static/components/requirejs/require.js\"></script>\n",
        "  '''))\n",
        "  init_notebook_mode(connected=False)"
      ],
      "execution_count": 0,
      "outputs": []
    },
    {
      "cell_type": "markdown",
      "metadata": {
        "colab_type": "text",
        "id": "ZFFeVI4yO4xi"
      },
      "source": [
        "### Sample"
      ]
    },
    {
      "cell_type": "code",
      "metadata": {
        "colab_type": "code",
        "id": "8YCVGqZkJJxT",
        "colab": {}
      },
      "source": [
        "from plotly.offline import iplot\n",
        "import plotly.graph_objs as go\n",
        "\n",
        "enable_plotly_in_cell()\n",
        "\n",
        "data = [\n",
        "    go.Contour(\n",
        "        z=[[10, 10.625, 12.5, 15.625, 20],\n",
        "           [5.625, 6.25, 8.125, 11.25, 15.625],\n",
        "           [2.5, 3.125, 5., 8.125, 12.5],\n",
        "           [0.625, 1.25, 3.125, 6.25, 10.625],\n",
        "           [0, 0.625, 2.5, 5.625, 10]]\n",
        "    )\n",
        "]\n",
        "iplot(data)"
      ],
      "execution_count": 0,
      "outputs": []
    },
    {
      "cell_type": "markdown",
      "metadata": {
        "colab_type": "text",
        "id": "Vy4On-BvO4xp"
      },
      "source": [
        "### Plotly Pre-execute Hook\n",
        "\n",
        "If you wish to automatically load the required resources within each cell, you can add the ``enable_plotly_in_cell`` function to a Jupyter pre-execute hook and it will be automaticaly executed before any cell execution:"
      ]
    },
    {
      "cell_type": "code",
      "metadata": {
        "colab_type": "code",
        "id": "yrkTy0G1O4xq",
        "colab": {}
      },
      "source": [
        "get_ipython().events.register('pre_run_cell', enable_plotly_in_cell)"
      ],
      "execution_count": 0,
      "outputs": []
    },
    {
      "cell_type": "markdown",
      "metadata": {
        "colab_type": "text",
        "id": "Q48hGPK7O4xz"
      },
      "source": [
        "Because this pre-run hook causes additional javascript resources to be loaded in each cell output, we will disable it here:"
      ]
    },
    {
      "cell_type": "code",
      "metadata": {
        "colab_type": "code",
        "id": "PLG84YjoO4x0",
        "colab": {}
      },
      "source": [
        "get_ipython().events.unregister('pre_run_cell', enable_plotly_in_cell)"
      ],
      "execution_count": 0,
      "outputs": []
    },
    {
      "cell_type": "markdown",
      "metadata": {
        "colab_type": "text",
        "id": "JGnotb1n73Yk"
      },
      "source": [
        "## Bokeh"
      ]
    },
    {
      "cell_type": "markdown",
      "metadata": {
        "colab_type": "text",
        "id": "WBw13toAKSZg"
      },
      "source": [
        "### Installation"
      ]
    },
    {
      "cell_type": "code",
      "metadata": {
        "colab_type": "code",
        "id": "iyzBfJwq72hC",
        "colab": {}
      },
      "source": [
        "!pip install bokeh"
      ],
      "execution_count": 0,
      "outputs": []
    },
    {
      "cell_type": "markdown",
      "metadata": {
        "colab_type": "text",
        "id": "J3dDw5_wKbpe"
      },
      "source": [
        "### Sample"
      ]
    },
    {
      "cell_type": "code",
      "metadata": {
        "colab_type": "code",
        "id": "vlOIt0zZ5uCz",
        "colab": {}
      },
      "source": [
        "import numpy as np\n",
        "from bokeh.plotting import figure, show\n",
        "from bokeh.io import output_notebook"
      ],
      "execution_count": 0,
      "outputs": []
    },
    {
      "cell_type": "code",
      "metadata": {
        "colab_type": "code",
        "id": "uKpMjg2m53Pg",
        "colab": {}
      },
      "source": [
        "N = 4000"
      ],
      "execution_count": 0,
      "outputs": []
    },
    {
      "cell_type": "code",
      "metadata": {
        "colab_type": "code",
        "id": "6YVlGlxQ54fH",
        "colab": {}
      },
      "source": [
        "x = np.random.random(size=N) * 100\n",
        "y = np.random.random(size=N) * 100\n",
        "radii = np.random.random(size=N) * 1.5\n",
        "colors = [\"#%02x%02x%02x\" % (r, g, 150) for r, g in zip(np.floor(50+2*x).astype(int), np.floor(30+2*y).astype(int))]"
      ],
      "execution_count": 0,
      "outputs": []
    },
    {
      "cell_type": "markdown",
      "metadata": {
        "colab_type": "text",
        "id": "wNmOIs7W8SKm"
      },
      "source": [
        "It's important that `output_notebook()` be called from within the cell which is executing."
      ]
    },
    {
      "cell_type": "code",
      "metadata": {
        "colab_type": "code",
        "id": "nv8P3UYm6SiQ",
        "colab": {}
      },
      "source": [
        "output_notebook()\n",
        "p = figure()\n",
        "p.circle(x, y, radius=radii, fill_color=colors, fill_alpha=0.6, line_color=None)\n",
        "show(p)"
      ],
      "execution_count": 0,
      "outputs": []
    }
  ]
}